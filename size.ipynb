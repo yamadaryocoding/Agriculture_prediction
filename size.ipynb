{
 "cells": [
  {
   "cell_type": "code",
   "execution_count": 2,
   "id": "9b4433ee",
   "metadata": {},
   "outputs": [
    {
     "name": "stdout",
     "output_type": "stream",
     "text": [
      "'test.csv' 加载成功。共 545 个样本。\n"
     ]
    },
    {
     "name": "stderr",
     "output_type": "stream",
     "text": [
      "100%|██████████| 545/545 [00:08<00:00, 65.49it/s]"
     ]
    },
    {
     "name": "stdout",
     "output_type": "stream",
     "text": [
      "\n",
      "--- 文件形状检查完毕 ---\n",
      "\n",
      "发现的独特形状总结:\n",
      "- 形状: (128, 57, 125), 数量: 9\n",
      "- 形状: (128, 128, 125), 数量: 536\n"
     ]
    },
    {
     "name": "stderr",
     "output_type": "stream",
     "text": [
      "\n"
     ]
    }
   ],
   "source": [
    "import pandas as pd\n",
    "import numpy as np\n",
    "import os\n",
    "from tqdm import tqdm # 用于显示进度条\n",
    "\n",
    "# 1. 加载 test.csv 文件\n",
    "csv_file_path = 'test.csv' # 请确保这是正确的路径\n",
    "try:\n",
    "    test_df = pd.read_csv(csv_file_path)\n",
    "    print(f\"'{csv_file_path}' 加载成功。共 {len(test_df)} 个样本。\")\n",
    "except FileNotFoundError:\n",
    "    print(f\"错误：未找到 '{csv_file_path}' 文件。请检查路径。\")\n",
    "    exit()\n",
    "\n",
    "# 2. 定义图像文件存放的目录\n",
    "image_dir = './ot/' # 这是你之前输出中显示的路径，请确保正确\n",
    "if not os.path.isdir(image_dir):\n",
    "    print(f\"警告：图像目录 '{image_dir}' 不存在。请检查路径。\")\n",
    "    # 即使目录不存在，我们也会尝试继续，但加载会失败\n",
    "\n",
    "# 3. 存储所有遇到的独特形状\n",
    "unique_shapes = set()\n",
    "all_shapes_info = [] # 用于存储文件名和形状，方便查看\n",
    "\n",
    "\n",
    "# 遍历 DataFrame 中的每一行\n",
    "for index, row in tqdm(test_df.iterrows(), total=len(test_df)):\n",
    "    image_name = row['id']\n",
    "    current_image_path = os.path.join(image_dir, image_name)\n",
    "    \n",
    "    try:\n",
    "        image_data = np.load(current_image_path)\n",
    "        shape = image_data.shape\n",
    "        all_shapes_info.append((image_name, shape))\n",
    "        unique_shapes.add(shape)\n",
    "        # 为了避免打印过多内容，我们可以在这里注释掉逐个打印的行\n",
    "        # print(f\"{image_name}: {shape}\") \n",
    "    except FileNotFoundError:\n",
    "        # print(f\"错误：文件未找到 - {current_image_path}\")\n",
    "        all_shapes_info.append((image_name, \"File Not Found\"))\n",
    "        unique_shapes.add(\"File Not Found\")\n",
    "    except Exception as e:\n",
    "        # print(f\"错误：加载文件 {current_image_path} 时发生: {e}\")\n",
    "        all_shapes_info.append((image_name, f\"Error: {e}\"))\n",
    "        unique_shapes.add(f\"Error loading file\")\n",
    "\n",
    "print(\"\\n--- 文件形状检查完毕 ---\")\n",
    "\n",
    "# 4. 打印找到的独特形状总结\n",
    "if unique_shapes:\n",
    "    print(\"\\n发现的独特形状总结:\")\n",
    "    for s in unique_shapes:\n",
    "        if isinstance(s, tuple): # 正常的形状元组\n",
    "            count = sum(1 for _, shp in all_shapes_info if shp == s)\n",
    "            print(f\"- 形状: {s}, 数量: {count}\")\n",
    "        else: # 错误信息字符串\n",
    "            count = sum(1 for _, shp in all_shapes_info if shp == s)\n",
    "            print(f\"- 信息: {s}, 数量: {count}\")\n",
    "else:\n",
    "    print(\"没有成功加载任何文件或test_df为空。\")\n",
    "\n",
    "# (可选) 如果你想查看所有文件的形状列表，可以取消注释下面的行\n",
    "# print(\"\\n所有文件的形状详情:\")\n",
    "# for name, shape_info in all_shapes_info:\n",
    "#     print(f\"{name}: {shape_info}\")"
   ]
  },
  {
   "cell_type": "markdown",
   "id": "0feb9541",
   "metadata": {},
   "source": []
  },
  {
   "cell_type": "code",
   "execution_count": null,
   "id": "e596dadc",
   "metadata": {},
   "outputs": [],
   "source": []
  }
 ],
 "metadata": {
  "kernelspec": {
   "display_name": "Python 3",
   "language": "python",
   "name": "python3"
  },
  "language_info": {
   "codemirror_mode": {
    "name": "ipython",
    "version": 3
   },
   "file_extension": ".py",
   "mimetype": "text/x-python",
   "name": "python",
   "nbconvert_exporter": "python",
   "pygments_lexer": "ipython3",
   "version": "3.12.3"
  }
 },
 "nbformat": 4,
 "nbformat_minor": 5
}
